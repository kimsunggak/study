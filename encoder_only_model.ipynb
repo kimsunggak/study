{
 "cells": [
  {
   "cell_type": "code",
   "execution_count": 1,
   "id": "900dfa46",
   "metadata": {},
   "outputs": [
    {
     "name": "stdout",
     "output_type": "stream",
     "text": [
      "PyTorch 버전: 2.5.1+cu121\n",
      "CUDA 사용 가능 여부: True\n",
      "GPU 이름: NVIDIA GeForce RTX 4060 Ti\n"
     ]
    }
   ],
   "source": [
    "import torch\n",
    "print(f\"PyTorch 버전: {torch.__version__}\")\n",
    "print(f\"CUDA 사용 가능 여부: {torch.cuda.is_available()}\")\n",
    "if torch.cuda.is_available():\n",
    "    print(f\"GPU 이름: {torch.cuda.get_device_name(0)}\")"
   ]
  },
  {
   "cell_type": "markdown",
   "id": "7330a89a",
   "metadata": {},
   "source": [
    "### 임베딩 레이어\n",
    "- 토큰 임베딩 + 위치 임베딩"
   ]
  },
  {
   "cell_type": "code",
   "execution_count": 2,
   "id": "80f6460e",
   "metadata": {},
   "outputs": [],
   "source": [
    "# 위치 인코딩\n",
    "import torch\n",
    "import torch.nn as nn\n",
    "import math\n",
    "\n",
    "class PositionalEncoding(nn.Module):\n",
    "    def __init__(self, d_model, max_len=5000):\n",
    "        super(PositionalEncoding, self).__init__()\n",
    "        \n",
    "        pe = torch.zeros(max_len, d_model)\n",
    "        position = torch.arange(0, max_len, dtype=torch.float).unsqueeze(1)\n",
    "\n",
    "        div_term = torch.exp(torch.arange(0, d_model, 2).float() * (-math.log(10000.0) / d_model))\n",
    "        # 짝수에는 sin,홀수 차원에는 cos\n",
    "        pe[:, 0::2] = torch.sin(position * div_term)\n",
    "        pe[:, 1::2] = torch.cos(position * div_term)\n",
    "        # 배치 차원을 맨 앞에 추가\n",
    "        pe = pe.unsqueeze(0)\n",
    "\n",
    "        self.register_buffer('pe', pe)\n",
    "\n",
    "    def forward(self, x):\n",
    "        return x + self.pe[:, :x.size(1), :]\n",
    "        \n",
    "# 토큰 임베딩 = 파이토치 라이브러리 내부 모듈 (nn.Embedding)\n",
    "\n",
    "class InputEmbedding(nn.Module):\n",
    "    def __init__(self, vocab_size, d_model, max_len, dropout):\n",
    "        super().__init__()\n",
    "        self.token_embedding = nn.Embedding(vocab_size, d_model)\n",
    "        self.pos_embed = PositionalEncoding(d_model, max_len)\n",
    "        self.dropout = nn.Dropout(dropout)\n",
    "\n",
    "    def forward(self, x):\n",
    "        x = self.token_embedding(x)\n",
    "        x = self.pos_embed(x)\n",
    "        return self.dropout(x)"
   ]
  },
  {
   "cell_type": "markdown",
   "id": "6696d140",
   "metadata": {},
   "source": [
    "### 인코더"
   ]
  },
  {
   "cell_type": "code",
   "execution_count": 7,
   "id": "cd6c8d41",
   "metadata": {},
   "outputs": [],
   "source": [
    "# 상수로 전달해서 인코더 레이어 생성\n",
    "encoder_layer = nn.TransformerEncoderLayer(\n",
    "    d_model=512,\n",
    "    nhead=8,\n",
    "    dim_feedforward=2048,\n",
    "    dropout=0.1,\n",
    "    batch_first=True\n",
    ")\n",
    "encoder = nn.TransformerEncoder(encoder_layer, num_layers=6)"
   ]
  },
  {
   "cell_type": "markdown",
   "id": "ba4c8106",
   "metadata": {},
   "source": [
    "### 분류기"
   ]
  },
  {
   "cell_type": "code",
   "execution_count": 4,
   "id": "906d0090",
   "metadata": {},
   "outputs": [],
   "source": [
    "classifier = nn.Linear(512,2) # num_classes = 2"
   ]
  },
  {
   "cell_type": "code",
   "execution_count": 8,
   "id": "08778ab5",
   "metadata": {},
   "outputs": [],
   "source": [
    "# Encoder only Model\n",
    "\n",
    "class EncoderOnlyModel(nn.Module):\n",
    "    def __init__(self, vocab_size, d_model, nhead, num_layers, dim_feedforward, num_classes, max_len=5000, dropout=0.1):\n",
    "        super().__init__()\n",
    "        self.embedding = InputEmbedding(vocab_size, d_model, max_len, dropout)\n",
    "        # 인코더 \n",
    "        encoder_layer = nn.TransformerEncoderLayer(\n",
    "            d_model=d_model,\n",
    "            nhead=nhead,\n",
    "            dim_feedforward=dim_feedforward,\n",
    "            dropout=dropout,\n",
    "            batch_first=True\n",
    "        )\n",
    "        self.encoder = nn.TransformerEncoder(encoder_layer, num_layers=num_layers)\n",
    "        self.classifier = nn.Linear(d_model, num_classes)\n",
    "\n",
    "    def forward(self, x):\n",
    "        x = self.embedding(x)\n",
    "        x = self.encoder(x)\n",
    "        cls_output = x[:, 0, :] # (batch_size, d_model)\n",
    "        x = self.classifier(cls_output)\n",
    "        return x"
   ]
  },
  {
   "cell_type": "markdown",
   "id": "7054912d",
   "metadata": {},
   "source": [
    "### 데이터셋 로드"
   ]
  },
  {
   "cell_type": "code",
   "execution_count": 9,
   "id": "5840e86d",
   "metadata": {},
   "outputs": [],
   "source": [
    "import torch\n",
    "import torch.nn as nn\n",
    "from torch.utils.data import DataLoader, Dataset\n",
    "from torch.nn.utils.rnn import pad_sequence\n",
    "\n",
    "# Hugging Face의 AutoTokenizer를 사용합니다.\n",
    "from datasets import load_dataset\n",
    "from transformers import AutoTokenizer\n",
    "\n",
    "# BERT 모델이 사용했던 토크나이저를 로드합니다.\n",
    "tokenizer = AutoTokenizer.from_pretrained('bert-base-uncased')\n",
    "\n",
    "# 데이터셋 로드\n",
    "dataset = load_dataset(\"stanfordnlp/imdb\")\n",
    "\n",
    "# 이제 직접 사전을 만들 필요 없이, 로드한 토크나이저를 바로 사용합니다.\n",
    "def text_pipeline(text):\n",
    "    return tokenizer.encode(text, truncation=True, max_length=512)\n",
    "\n",
    "class MyDataset(Dataset):\n",
    "    def __init__(self, data):\n",
    "        self.data = data\n",
    "\n",
    "    def __len__(self):\n",
    "        return len(self.data)\n",
    "\n",
    "    def __getitem__(self, idx):\n",
    "        item = self.data[idx]\n",
    "        processed_text = torch.tensor(text_pipeline(item['text']), dtype=torch.int64)\n",
    "        label = torch.tensor(item['label'], dtype=torch.int64)\n",
    "        return processed_text, label\n",
    "\n",
    "def collate_batch(batch):\n",
    "    label_list, text_list = [], []\n",
    "    for (_text, _label) in batch:\n",
    "        label_list.append(_label)\n",
    "        text_list.append(_text)\n",
    "    \n",
    "    labels = torch.tensor(label_list, dtype=torch.int64)\n",
    "    # 패딩을 할 때, 토크나이저에 정의된 pad 토큰의 ID를 사용합니다.\n",
    "    texts = pad_sequence(text_list, batch_first=True, padding_value=tokenizer.pad_token_id)\n",
    "    return texts, labels\n",
    "\n",
    "train_dataset = MyDataset(dataset['train'])\n",
    "test_dataset = MyDataset(dataset['test'])\n",
    "\n",
    "train_dataloader = DataLoader(train_dataset, batch_size=16, shuffle=True, collate_fn=collate_batch) # 배치 사이즈 조정\n",
    "test_dataloader = DataLoader(test_dataset, batch_size=16, shuffle=False, collate_fn=collate_batch)"
   ]
  },
  {
   "cell_type": "markdown",
   "id": "11909a8a",
   "metadata": {},
   "source": [
    "### Encoder only model 학습"
   ]
  },
  {
   "cell_type": "code",
   "execution_count": 18,
   "id": "0c01c93c",
   "metadata": {},
   "outputs": [],
   "source": [
    "Vocab_size = tokenizer.vocab_size  # BERT 토크나이저의 실제 vocab_size 사용\n",
    "d_model = 512\n",
    "nhead = 4\n",
    "num_layers = 2\n",
    "dim_feedforward = 2048\n",
    "num_classes = 2\n",
    "\n",
    "encoder_only_model = EncoderOnlyModel(\n",
    "    vocab_size=Vocab_size,\n",
    "    d_model=d_model,\n",
    "    nhead=nhead,\n",
    "    num_layers=num_layers,\n",
    "    dim_feedforward=dim_feedforward,\n",
    "    num_classes=num_classes\n",
    ")\n",
    "\n",
    "criterion = nn.CrossEntropyLoss()\n",
    "optimizer = torch.optim.Adam(encoder_only_model.parameters(), lr=0.0001)\n",
    "\n",
    "device = torch.device(\"cuda\" if torch.cuda.is_available() else \"cpu\")\n",
    "encoder_only_model.to(device)\n",
    "\n",
    "def train(model, dataloader, optimizer, criterion, device):\n",
    "    model.train()\n",
    "    total_loss, total_acc = 0, 0  # 변수 초기화 추가\n",
    "    \n",
    "    for i, (texts, labels) in enumerate(dataloader):\n",
    "        texts, labels = texts.to(device), labels.to(device)\n",
    "        \n",
    "        optimizer.zero_grad()\n",
    "        predictions = model(texts)\n",
    "        loss = criterion(predictions, labels)\n",
    "        \n",
    "        loss.backward()\n",
    "        optimizer.step()\n",
    "\n",
    "        total_loss += loss.item()\n",
    "        total_acc += (predictions.argmax(1) == labels).sum().item()\n",
    "        \n",
    "    return total_loss / len(dataloader.dataset), total_acc / len(dataloader.dataset)\n",
    "\n",
    "def evaluate(model, dataloader, criterion, device):  # 함수 시그니처 수정\n",
    "    model.eval()\n",
    "    total_loss, total_acc = 0, 0\n",
    "\n",
    "    with torch.no_grad():\n",
    "        for texts, labels in dataloader:\n",
    "            texts, labels = texts.to(device), labels.to(device)  # 변수명 통일\n",
    "            predictions = model(texts)\n",
    "            loss = criterion(predictions, labels)\n",
    "\n",
    "            total_loss += loss.item()\n",
    "            total_acc += (predictions.argmax(1) == labels).sum().item()\n",
    "\n",
    "    return total_loss / len(dataloader.dataset), total_acc / len(dataloader.dataset)"
   ]
  },
  {
   "cell_type": "code",
   "execution_count": null,
   "id": "2365bd18",
   "metadata": {},
   "outputs": [
    {
     "name": "stdout",
     "output_type": "stream",
     "text": [
      "Epoch 1/10\n",
      "Train Loss: 0.0338, Train Acc: 0.7157\n",
      "Test Loss: 0.0294, Test Acc: 0.7773\n",
      "Epoch 2/10\n",
      "Train Loss: 0.0278, Train Acc: 0.7907\n",
      "Test Loss: 0.0270, Test Acc: 0.8042\n",
      "Epoch 2/10\n",
      "Train Loss: 0.0278, Train Acc: 0.7907\n",
      "Test Loss: 0.0270, Test Acc: 0.8042\n",
      "Epoch 3/10\n",
      "Train Loss: 0.0250, Train Acc: 0.8194\n",
      "Test Loss: 0.0251, Test Acc: 0.8186\n",
      "Epoch 3/10\n",
      "Train Loss: 0.0250, Train Acc: 0.8194\n",
      "Test Loss: 0.0251, Test Acc: 0.8186\n",
      "Epoch 4/10\n",
      "Train Loss: 0.0232, Train Acc: 0.8392\n",
      "Test Loss: 0.0253, Test Acc: 0.8228\n",
      "Epoch 4/10\n",
      "Train Loss: 0.0232, Train Acc: 0.8392\n",
      "Test Loss: 0.0253, Test Acc: 0.8228\n",
      "Epoch 5/10\n",
      "Train Loss: 0.0215, Train Acc: 0.8536\n",
      "Test Loss: 0.0235, Test Acc: 0.8328\n",
      "Epoch 5/10\n",
      "Train Loss: 0.0215, Train Acc: 0.8536\n",
      "Test Loss: 0.0235, Test Acc: 0.8328\n",
      "Epoch 6/10\n",
      "Train Loss: 0.0197, Train Acc: 0.8671\n",
      "Test Loss: 0.0256, Test Acc: 0.8343\n",
      "Epoch 6/10\n",
      "Train Loss: 0.0197, Train Acc: 0.8671\n",
      "Test Loss: 0.0256, Test Acc: 0.8343\n",
      "Epoch 7/10\n",
      "Train Loss: 0.0183, Train Acc: 0.8784\n",
      "Test Loss: 0.0243, Test Acc: 0.8399\n",
      "Epoch 7/10\n",
      "Train Loss: 0.0183, Train Acc: 0.8784\n",
      "Test Loss: 0.0243, Test Acc: 0.8399\n"
     ]
    }
   ],
   "source": [
    "num_epochs = 10\n",
    "\n",
    "for epoch in range(num_epochs):\n",
    "    train_loss, train_acc = train(encoder_only_model, train_dataloader, optimizer, criterion, device)\n",
    "    test_loss, test_acc = evaluate(encoder_only_model, test_dataloader, criterion, device)\n",
    "    print(f\"Epoch {epoch + 1}/{num_epochs}\")\n",
    "    print(f\"Train Loss: {train_loss:.4f}, Train Acc: {train_acc:.4f}\")\n",
    "    print(f\"Test Loss: {test_loss:.4f}, Test Acc: {test_acc:.4f}\")"
   ]
  }
 ],
 "metadata": {
  "kernelspec": {
   "display_name": "myenv",
   "language": "python",
   "name": "python3"
  },
  "language_info": {
   "codemirror_mode": {
    "name": "ipython",
    "version": 3
   },
   "file_extension": ".py",
   "mimetype": "text/x-python",
   "name": "python",
   "nbconvert_exporter": "python",
   "pygments_lexer": "ipython3",
   "version": "3.10.10"
  }
 },
 "nbformat": 4,
 "nbformat_minor": 5
}
